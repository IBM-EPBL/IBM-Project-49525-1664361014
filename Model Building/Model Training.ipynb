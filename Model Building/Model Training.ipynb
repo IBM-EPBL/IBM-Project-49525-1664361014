{
 "cells": [
  {
   "cell_type": "markdown",
   "metadata": {
    "id": "fKbUP4Ab45pw"
   },
   "source": [
    "Model Training"
   ]
  },
  {
   "cell_type": "markdown",
   "metadata": {
    "id": "OtMB56cx49gp"
   },
   "source": [
    "Importing Packages"
   ]
  },
  {
   "cell_type": "code",
   "execution_count": 89,
   "metadata": {
    "id": "bSVgZ1R15GCe"
   },
   "outputs": [],
   "source": [
    "import numpy as np\n",
    "import tensorflow\n",
    "from tensorflow.keras.models import Sequential\n",
    "from tensorflow.keras import layers\n",
    "from tensorflow.keras.layers import Dense,Flatten, Dropout\n",
    "from tensorflow.keras.layers import Conv2D,MaxPooling2D\n",
    "from keras.preprocessing.image import ImageDataGenerator"
   ]
  },
  {
   "cell_type": "markdown",
   "metadata": {
    "id": "YoZJoFla5OXC"
   },
   "source": [
    "Image Data Argumentation"
   ]
  },
  {
   "cell_type": "code",
   "execution_count": 5,
   "metadata": {
    "id": "6Bj220CL5Pg3"
   },
   "outputs": [],
   "source": [
    "train_datagen = ImageDataGenerator(rescale=1./255, shear_range=0.2, zoom_range=0.2, horizontal_flip=True)\n",
    "test_datagen = ImageDataGenerator(rescale=1./255)"
   ]
  },
  {
   "cell_type": "markdown",
   "metadata": {
    "id": "2ZbFvKEy5UK_"
   },
   "source": [
    "Loading Our Data And Perform Data Argumentation"
   ]
  },
  {
   "cell_type": "code",
   "execution_count": 75,
   "metadata": {
    "colab": {
     "base_uri": "https://localhost:8080/"
    },
    "id": "MrAS6NYt5Ziy",
    "outputId": "fbded75e-41c8-496b-b3f3-9870dd4c9ac7"
   },
   "outputs": [
    {
     "name": "stdout",
     "output_type": "stream",
     "text": [
      "Found 594 images belonging to 6 classes.\n",
      "Found 30 images belonging to 6 classes.\n"
     ]
    }
   ],
   "source": [
    "x_test = test_datagen.flow_from_directory(r'/content/drive/MyDrive/train-20221106T023729Z-001/train', target_size=(64, 64), batch_size=3, color_mode='grayscale', class_mode='categorical')\n",
    "x_train = train_datagen.flow_from_directory(r'/content/drive/MyDrive/test-20221106T023808Z-001/test', target_size=(64, 64), batch_size=3, color_mode='grayscale', class_mode='categorical')\n"
   ]
  },
  {
   "cell_type": "code",
   "execution_count": 76,
   "metadata": {
    "colab": {
     "base_uri": "https://localhost:8080/"
    },
    "id": "_qudQZ968zxj",
    "outputId": "497649f8-83b5-49ec-959f-c637d9979373"
   },
   "outputs": [
    {
     "name": "stdout",
     "output_type": "stream",
     "text": [
      "{'0': 0, '1': 1, '2': 2, '3': 3, '4': 4, '5': 5}\n"
     ]
    }
   ],
   "source": [
    "print(x_train.class_indices)"
   ]
  },
  {
   "cell_type": "markdown",
   "metadata": {
    "id": "wh_OPGRd9huv"
   },
   "source": [
    "Initializing The Model"
   ]
  },
  {
   "cell_type": "code",
   "execution_count": 77,
   "metadata": {
    "id": "AeKacTT89ilW"
   },
   "outputs": [],
   "source": [
    "model=Sequential()"
   ]
  },
  {
   "cell_type": "markdown",
   "metadata": {
    "id": "NPvuFG0A9nsx"
   },
   "source": [
    "Adding CNN Layers"
   ]
  },
  {
   "cell_type": "code",
   "execution_count": 78,
   "metadata": {
    "id": "ZrVAioZl9odK"
   },
   "outputs": [],
   "source": [
    "model.add(Conv2D(32, (3, 3), input_shape=(64, 64, 1), activation='relu'))\n",
    "model.add(MaxPooling2D(pool_size=(2, 2)))"
   ]
  },
  {
   "cell_type": "code",
   "execution_count": 79,
   "metadata": {
    "id": "QgSYrHlU9ru2"
   },
   "outputs": [],
   "source": [
    "model.add(Conv2D(32, (3, 3), activation='relu'))\n",
    "model.add(MaxPooling2D(pool_size=(2, 2)))"
   ]
  },
  {
   "cell_type": "code",
   "execution_count": 80,
   "metadata": {
    "id": "5PAgNpxd9wvc"
   },
   "outputs": [],
   "source": [
    "model.add(Flatten())"
   ]
  },
  {
   "cell_type": "markdown",
   "metadata": {
    "id": "-HS_LphL91B5"
   },
   "source": [
    "Adding Dense Layers"
   ]
  },
  {
   "cell_type": "code",
   "execution_count": 81,
   "metadata": {
    "id": "uDHFmysj93MD"
   },
   "outputs": [],
   "source": [
    "model.add(Dense(units=512, activation='relu'))"
   ]
  },
  {
   "cell_type": "code",
   "execution_count": 82,
   "metadata": {
    "id": "dyq2-CVX-ja-"
   },
   "outputs": [],
   "source": [
    "model.add(Dense(units=6, activation='softmax'))"
   ]
  },
  {
   "cell_type": "code",
   "execution_count": 83,
   "metadata": {
    "colab": {
     "base_uri": "https://localhost:8080/"
    },
    "id": "3PUrfrdq-lC1",
    "outputId": "ee12c3ab-b797-4582-a6f4-f4bd94ca6284"
   },
   "outputs": [
    {
     "name": "stdout",
     "output_type": "stream",
     "text": [
      "Model: \"sequential_2\"\n",
      "_________________________________________________________________\n",
      " Layer (type)                Output Shape              Param #   \n",
      "=================================================================\n",
      " conv2d_4 (Conv2D)           (None, 62, 62, 32)        320       \n",
      "                                                                 \n",
      " max_pooling2d_4 (MaxPooling  (None, 31, 31, 32)       0         \n",
      " 2D)                                                             \n",
      "                                                                 \n",
      " conv2d_5 (Conv2D)           (None, 29, 29, 32)        9248      \n",
      "                                                                 \n",
      " max_pooling2d_5 (MaxPooling  (None, 14, 14, 32)       0         \n",
      " 2D)                                                             \n",
      "                                                                 \n",
      " flatten_2 (Flatten)         (None, 6272)              0         \n",
      "                                                                 \n",
      " dense_10 (Dense)            (None, 512)               3211776   \n",
      "                                                                 \n",
      " dense_11 (Dense)            (None, 6)                 3078      \n",
      "                                                                 \n",
      "=================================================================\n",
      "Total params: 3,224,422\n",
      "Trainable params: 3,224,422\n",
      "Non-trainable params: 0\n",
      "_________________________________________________________________\n"
     ]
    }
   ],
   "source": [
    "model.summary()"
   ]
  },
  {
   "cell_type": "markdown",
   "metadata": {
    "id": "BfHjIQ0Q9_J9"
   },
   "source": [
    "Configure The Learning Process"
   ]
  },
  {
   "cell_type": "code",
   "execution_count": 88,
   "metadata": {
    "id": "iEXJf_Xb9_6v"
   },
   "outputs": [],
   "source": [
    "model.compile(optimizer='adam', loss='categorical_crossentropy', metrics=['accuracy'])"
   ]
  },
  {
   "cell_type": "markdown",
   "metadata": {
    "id": "c7apzeco-FPN"
   },
   "source": [
    "Train The Model"
   ]
  },
  {
   "cell_type": "code",
   "execution_count": 90,
   "metadata": {
    "colab": {
     "base_uri": "https://localhost:8080/"
    },
    "id": "Rw3EZ_7Y-F2B",
    "outputId": "d4d12fcf-6b73-4b80-b14c-2e6960551c47"
   },
   "outputs": [
    {
     "name": "stdout",
     "output_type": "stream",
     "text": [
      "Epoch 1/25\n"
     ]
    },
    {
     "name": "stderr",
     "output_type": "stream",
     "text": [
      "/usr/local/lib/python3.7/dist-packages/ipykernel_launcher.py:4: UserWarning: `Model.fit_generator` is deprecated and will be removed in a future version. Please use `Model.fit`, which supports generators.\n",
      "  after removing the cwd from sys.path.\n"
     ]
    },
    {
     "name": "stdout",
     "output_type": "stream",
     "text": [
      "10/10 [==============================] - 2s 108ms/step - loss: 0.0838 - accuracy: 0.9667 - val_loss: 4.8002 - val_accuracy: 0.3667\n",
      "Epoch 2/25\n",
      "10/10 [==============================] - 1s 88ms/step - loss: 0.0481 - accuracy: 1.0000 - val_loss: 3.2492 - val_accuracy: 0.5667\n",
      "Epoch 3/25\n",
      "10/10 [==============================] - 1s 90ms/step - loss: 0.1411 - accuracy: 0.9333 - val_loss: 2.1161 - val_accuracy: 0.6000\n",
      "Epoch 4/25\n",
      "10/10 [==============================] - 1s 102ms/step - loss: 0.0870 - accuracy: 0.9667 - val_loss: 3.3258 - val_accuracy: 0.3667\n",
      "Epoch 5/25\n",
      "10/10 [==============================] - 1s 86ms/step - loss: 0.0609 - accuracy: 0.9667 - val_loss: 4.7341 - val_accuracy: 0.3667\n",
      "Epoch 6/25\n",
      "10/10 [==============================] - 1s 102ms/step - loss: 0.0070 - accuracy: 1.0000 - val_loss: 2.9502 - val_accuracy: 0.5667\n",
      "Epoch 7/25\n",
      "10/10 [==============================] - 1s 87ms/step - loss: 0.0352 - accuracy: 0.9667 - val_loss: 2.4555 - val_accuracy: 0.6333\n",
      "Epoch 8/25\n",
      "10/10 [==============================] - 1s 92ms/step - loss: 0.0440 - accuracy: 0.9667 - val_loss: 3.2904 - val_accuracy: 0.5667\n",
      "Epoch 9/25\n",
      "10/10 [==============================] - 1s 106ms/step - loss: 0.0055 - accuracy: 1.0000 - val_loss: 2.6798 - val_accuracy: 0.6667\n",
      "Epoch 10/25\n",
      "10/10 [==============================] - 1s 88ms/step - loss: 0.0054 - accuracy: 1.0000 - val_loss: 4.6708 - val_accuracy: 0.4333\n",
      "Epoch 11/25\n",
      "10/10 [==============================] - 1s 86ms/step - loss: 0.0044 - accuracy: 1.0000 - val_loss: 4.1461 - val_accuracy: 0.5333\n",
      "Epoch 12/25\n",
      "10/10 [==============================] - 1s 91ms/step - loss: 0.0031 - accuracy: 1.0000 - val_loss: 5.3703 - val_accuracy: 0.5667\n",
      "Epoch 13/25\n",
      "10/10 [==============================] - 1s 107ms/step - loss: 0.0010 - accuracy: 1.0000 - val_loss: 3.1483 - val_accuracy: 0.6000\n",
      "Epoch 14/25\n",
      "10/10 [==============================] - 1s 92ms/step - loss: 0.0065 - accuracy: 1.0000 - val_loss: 3.0748 - val_accuracy: 0.5667\n",
      "Epoch 15/25\n",
      "10/10 [==============================] - 1s 106ms/step - loss: 0.0016 - accuracy: 1.0000 - val_loss: 4.2850 - val_accuracy: 0.7000\n",
      "Epoch 16/25\n",
      "10/10 [==============================] - 1s 105ms/step - loss: 6.9349e-04 - accuracy: 1.0000 - val_loss: 6.7626 - val_accuracy: 0.5333\n",
      "Epoch 17/25\n",
      "10/10 [==============================] - 1s 88ms/step - loss: 4.1833e-04 - accuracy: 1.0000 - val_loss: 4.0649 - val_accuracy: 0.4333\n",
      "Epoch 18/25\n",
      "10/10 [==============================] - 1s 89ms/step - loss: 2.2985e-04 - accuracy: 1.0000 - val_loss: 6.8380 - val_accuracy: 0.5000\n",
      "Epoch 19/25\n",
      "10/10 [==============================] - 1s 104ms/step - loss: 6.7672e-04 - accuracy: 1.0000 - val_loss: 5.0654 - val_accuracy: 0.5667\n",
      "Epoch 20/25\n",
      "10/10 [==============================] - 1s 89ms/step - loss: 8.1685e-04 - accuracy: 1.0000 - val_loss: 2.6641 - val_accuracy: 0.6667\n",
      "Epoch 21/25\n",
      "10/10 [==============================] - 1s 101ms/step - loss: 0.0016 - accuracy: 1.0000 - val_loss: 6.2709 - val_accuracy: 0.5333\n",
      "Epoch 22/25\n",
      "10/10 [==============================] - 1s 92ms/step - loss: 3.6468e-04 - accuracy: 1.0000 - val_loss: 6.2225 - val_accuracy: 0.5333\n",
      "Epoch 23/25\n",
      "10/10 [==============================] - 1s 87ms/step - loss: 2.6394e-04 - accuracy: 1.0000 - val_loss: 2.2229 - val_accuracy: 0.7333\n",
      "Epoch 24/25\n",
      "10/10 [==============================] - 1s 88ms/step - loss: 1.9120e-04 - accuracy: 1.0000 - val_loss: 7.6336 - val_accuracy: 0.5333\n",
      "Epoch 25/25\n",
      "10/10 [==============================] - 1s 88ms/step - loss: 1.4391e-04 - accuracy: 1.0000 - val_loss: 4.6080 - val_accuracy: 0.5000\n"
     ]
    },
    {
     "data": {
      "text/plain": [
       "<keras.callbacks.History at 0x7fb89db56d90>"
      ]
     },
     "execution_count": 90,
     "metadata": {},
     "output_type": "execute_result"
    }
   ],
   "source": [
    "model.fit_generator(x_train,steps_per_epoch= len(x_train),\n",
    "                    epochs= 25,\n",
    "                    validation_data=x_test,\n",
    "                    validation_steps=len(x_train))"
   ]
  },
  {
   "cell_type": "markdown",
   "metadata": {
    "id": "noL3VzsUEz1F"
   },
   "source": [
    "Save The Model"
   ]
  },
  {
   "cell_type": "code",
   "execution_count": 91,
   "metadata": {
    "id": "KCL7BrrfE3eE"
   },
   "outputs": [],
   "source": [
    "model.save('gesture.h5')"
   ]
  },
  {
   "cell_type": "code",
   "execution_count": 92,
   "metadata": {
    "id": "gWj1r6R-E_uk"
   },
   "outputs": [],
   "source": [
    "model_json = model.to_json()\n",
    "with open(\"model-bw.json\", \"w\") as json_file:\n",
    "     json_file.write(model_json)"
   ]
  }
 ],
 "metadata": {
  "colab": {
   "provenance": []
  },
  "kernelspec": {
   "display_name": "Python 3",
   "language": "python",
   "name": "python3"
  },
  "language_info": {
   "codemirror_mode": {
    "name": "ipython",
    "version": 3
   },
   "file_extension": ".py",
   "mimetype": "text/x-python",
   "name": "python",
   "nbconvert_exporter": "python",
   "pygments_lexer": "ipython3",
   "version": "3.8.8"
  }
 },
 "nbformat": 4,
 "nbformat_minor": 1
}
